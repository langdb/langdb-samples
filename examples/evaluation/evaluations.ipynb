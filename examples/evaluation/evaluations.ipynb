{
 "cells": [
  {
   "cell_type": "code",
   "execution_count": 1,
   "metadata": {},
   "outputs": [],
   "source": [
    "from pylangdb.client import LangDb\n",
    "from utils import UserTrendsAnalyzer\n",
    "import os\n",
    "from dotenv import load_dotenv\n",
    "from datetime import datetime"
   ]
  },
  {
   "cell_type": "code",
   "execution_count": 2,
   "metadata": {},
   "outputs": [],
   "source": [
    "# Load environment variables\n",
    "load_dotenv()\n",
    "\n",
    "# Initialize client and analyzer\n",
    "client = LangDb(\n",
    "    api_key=os.getenv(\"LANGDB_API_KEY\"), project_id=os.getenv(\"LANGDB_PROJECT_ID\")\n",
    ")\n",
    "analyzer = UserTrendsAnalyzer(\n",
    "    api_key=os.getenv(\"LANGDB_API_KEY\"), project_id=os.getenv(\"LANGDB_PROJECT_ID\")\n",
    ")"
   ]
  },
  {
   "cell_type": "code",
   "execution_count": 8,
   "metadata": {},
   "outputs": [],
   "source": [
    "# List of questions to ask\n",
    "questions = [\n",
    "    \"What are the main differences between Python and JavaScript?\",\n",
    "    \"How does garbage collection work in Python?\",\n",
    "    \"Explain the concept of decorators in Python with an example.\",\n",
    "    \"What is the Global Interpreter Lock (GIL) in Python?\",\n",
    "    \"How do context managers work in Python and when should you use them?\",\n",
    "    # Additional questions for better trend analysis\n",
    "    \"What's the best way to handle errors in Python?\",\n",
    "    \"How to optimize database queries in Django?\",\n",
    "    \"Explain the concept of async/await in Python.\",\n",
    "    \"Best practices for writing unit tests in Python?\",\n",
    "    \"How to implement caching in a Python web application?\",\n",
    "]"
   ]
  },
  {
   "cell_type": "code",
   "execution_count": 3,
   "metadata": {},
   "outputs": [],
   "source": [
    "thread_ids = []\n",
    "for question in questions:\n",
    "    messages = [\n",
    "        {\"role\": \"system\", \"content\": \"You are a helpful programming tutor.\"},\n",
    "        {\"role\": \"user\", \"content\": question},\n",
    "    ]\n",
    "    response = client.completion(\n",
    "        model=\"gpt-4o-mini\", messages=messages, temperature=0.7, max_tokens=1000\n",
    "    )\n",
    "    thread_ids.append(response[\"thread_id\"])"
   ]
  },
  {
   "cell_type": "markdown",
   "metadata": {},
   "source": [
    "## Analyzing Conversation Data\n",
    "Let's examine the conversation data in detail. The `create_evaluation_df` method gives us a DataFrame containing all messages in the thread, along with metadata like timestamps and costs."
   ]
  },
  {
   "cell_type": "code",
   "execution_count": 9,
   "metadata": {},
   "outputs": [],
   "source": [
    "# Fetching conversation data\n",
    "df = client.create_evaluation_df(thread_ids)"
   ]
  },
  {
   "cell_type": "code",
   "execution_count": 10,
   "metadata": {},
   "outputs": [
    {
     "name": "stdout",
     "output_type": "stream",
     "text": [
      "\n",
      "Cost Analysis:\n",
      "Total cost across all threads: $0.0161\n",
      "\n",
      "Cost per thread:\n",
      "Thread 0c8e2d92-493d-4916-83b5-3a5084134cb5: $0.0011\n",
      "Thread 4a5ba631-7947-4d5a-9e26-f5c51d1c7c4d: $0.0021\n",
      "Thread 5a4ba778-4af0-469b-84a3-d98743324c99: $0.0015\n",
      "Thread 715d0936-3ad4-4b29-be42-f47fadcb047a: $0.0019\n",
      "Thread 82af12cd-cd2b-4ba4-a3d3-d1a1d216df09: $0.0015\n",
      "Thread 8d78fd23-e207-495e-96c5-1f771dc92714: $0.0015\n",
      "Thread e365ce82-cca9-4148-bdf3-bb0b16510511: $0.0017\n",
      "Thread e81f1766-3482-434a-83be-63943bfea08c: $0.0016\n",
      "Thread ead791ce-b557-4026-9f3e-00c8c46c6fba: $0.0015\n",
      "Thread f2242c4c-c276-489c-9f53-12f524d78a32: $0.0018\n",
      "\n",
      "Messages per thread:\n",
      "thread_id\n",
      "0c8e2d92-493d-4916-83b5-3a5084134cb5    3\n",
      "4a5ba631-7947-4d5a-9e26-f5c51d1c7c4d    3\n",
      "5a4ba778-4af0-469b-84a3-d98743324c99    3\n",
      "715d0936-3ad4-4b29-be42-f47fadcb047a    3\n",
      "82af12cd-cd2b-4ba4-a3d3-d1a1d216df09    3\n",
      "8d78fd23-e207-495e-96c5-1f771dc92714    3\n",
      "e365ce82-cca9-4148-bdf3-bb0b16510511    3\n",
      "e81f1766-3482-434a-83be-63943bfea08c    3\n",
      "ead791ce-b557-4026-9f3e-00c8c46c6fba    3\n",
      "f2242c4c-c276-489c-9f53-12f524d78a32    3\n",
      "dtype: int64\n",
      "\n",
      "Average cost per message: $0.0005\n",
      "\n",
      "Detailed analysis saved to cost_analysis_20250129_160708.txt\n"
     ]
    }
   ],
   "source": [
    "# Cell: Cost Analysis\n",
    "print(\"\\nCost Analysis:\")\n",
    "print(f\"Total cost across all threads: ${df['thread_total_cost'].sum():.4f}\")\n",
    "\n",
    "# Cost breakdown per thread\n",
    "print(\"\\nCost per thread:\")\n",
    "thread_costs = df.groupby(\"thread_id\")[\"thread_total_cost\"].sum()\n",
    "for thread_id, cost in thread_costs.items():\n",
    "    print(f\"Thread {thread_id}: ${cost:.4f}\")\n",
    "\n",
    "# Messages per thread\n",
    "print(\"\\nMessages per thread:\")\n",
    "messages_per_thread = df.groupby(\"thread_id\").size()\n",
    "print(messages_per_thread)\n",
    "\n",
    "# Average cost per message\n",
    "avg_cost = df[\"thread_total_cost\"].sum() / len(df)\n",
    "print(f\"\\nAverage cost per message: ${avg_cost:.4f}\")\n",
    "\n",
    "# Save analysis with timestamp (optional)\n",
    "timestamp = datetime.now().strftime(\"%Y%m%d_%H%M%S\")\n",
    "analysis_file = f\"cost_analysis_{timestamp}.txt\"\n",
    "\n",
    "with open(analysis_file, \"w\") as f:\n",
    "    f.write(f\"=== Cost Analysis Report ({timestamp}) ===\\n\")\n",
    "    f.write(f\"Total cost: ${df['thread_total_cost'].sum():.4f}\\n\")\n",
    "    f.write(\"\\nCost per thread:\\n\")\n",
    "    for thread_id, cost in thread_costs.items():\n",
    "        f.write(f\"Thread {thread_id}: ${cost:.4f}\\n\")\n",
    "    f.write(f\"\\nAverage cost per message: ${avg_cost:.4f}\\n\")\n",
    "\n",
    "print(f\"\\nDetailed analysis saved to {analysis_file}\")"
   ]
  },
  {
   "cell_type": "markdown",
   "metadata": {},
   "source": [
    "## Trend Analysis Across Multiple Topics\n",
    "Now we'll create multiple conversation threads on different Python topics and analyze trends across them. This demonstrates how to:\n",
    "1. Create multiple threads programmatically\n",
    "2. Use the UserTrendsAnalyzer to identify patterns\n",
    "3. Extract insights from multiple conversations"
   ]
  },
  {
   "cell_type": "code",
   "execution_count": 5,
   "metadata": {},
   "outputs": [
    {
     "name": "stdout",
     "output_type": "stream",
     "text": [
      "Trend Analysis Results:\n",
      "{'analysis': '```json\\n{\\n  \"common_topics_or_themes\": [\\n    \"Python programming concepts\",\\n    \"Error handling in Python\",\\n    \"Optimizing performance in Python applications\",\\n    \"Best practices in Python development\",\\n    \"JavaScript comparison\"\\n  ],\\n  \"types_of_questions_being_asked\": [\\n    \"Comparative questions\",\\n    \"Explanatory questions\",\\n    \"How-to questions\",\\n    \"Best practices inquiries\",\\n    \"Conceptual understanding requests\"\\n  ],\\n  \"user_pain_points_or_challenges\": [\\n    \"Understanding complex Python features (e.g., decorators, GIL, async/await)\",\\n    \"Error handling and optimization in Python applications\",\\n    \"Performance issues related to database queries in Django\",\\n    \"Need for best practices in unit testing and caching\"\\n  ],\\n  \"feature_requests_or_suggestions\": [\\n    \"More detailed explanations and examples for complex concepts\",\\n    \"Guidance on error handling strategies\",\\n    \"Resources or tools for optimizing database queries\",\\n    \"Best practices documentation for unit testing and caching\"\\n  ],\\n  \"overall_sentiment_and_engagement\": {\\n    \"sentiment\": \"Curious and proactive\",\\n    \"engagement_level\": \"High, as users are seeking in-depth knowledge and practical solutions\"\\n  }\\n}\\n```', 'thread_count': 10, 'message_count': 10, 'time_range': {'start': Timestamp('2025-01-29 10:22:21.972000'), 'end': Timestamp('2025-01-29 10:24:37.375000')}}\n"
     ]
    }
   ],
   "source": [
    "# Analyze trends\n",
    "trends = analyzer.analyze_thread_trends(thread_ids)\n",
    "print(\"Trend Analysis Results:\")\n",
    "print(trends)"
   ]
  },
  {
   "cell_type": "code",
   "execution_count": 6,
   "metadata": {},
   "outputs": [
    {
     "name": "stdout",
     "output_type": "stream",
     "text": [
      "\n",
      "Topic Distribution Results:\n",
      "{'topic_distribution': '```json\\n{\\n    \"Programming Languages\": 5,\\n    \"Python Concepts\": 6,\\n    \"Web Development\": 2,\\n    \"Error Handling\": 1,\\n    \"Testing\": 1,\\n    \"Optimization\": 1\\n}\\n```', 'total_messages': 10}\n"
     ]
    }
   ],
   "source": [
    "# Analyze topic distribution\n",
    "topics = analyzer.get_topic_distribution(thread_ids)\n",
    "print(\"\\nTopic Distribution Results:\")\n",
    "print(topics)"
   ]
  }
 ],
 "metadata": {
  "kernelspec": {
   "display_name": ".venv",
   "language": "python",
   "name": "python3"
  },
  "language_info": {
   "codemirror_mode": {
    "name": "ipython",
    "version": 3
   },
   "file_extension": ".py",
   "mimetype": "text/x-python",
   "name": "python",
   "nbconvert_exporter": "python",
   "pygments_lexer": "ipython3",
   "version": "3.10.12"
  }
 },
 "nbformat": 4,
 "nbformat_minor": 2
}
